{
 "cells": [
  {
   "cell_type": "code",
   "execution_count": null,
   "metadata": {},
   "outputs": [],
   "source": [
    "import prunning as pr\n",
    "import utils.misc as misc\n",
    "import utils.visulaiser as visulaiser"
   ]
  },
  {
   "cell_type": "code",
   "execution_count": null,
   "metadata": {},
   "outputs": [],
   "source": [
    "model = \"\" ## Define Model\n",
    "dataloader = \"\" ## Define Dataloader\n"
   ]
  },
  {
   "cell_type": "code",
   "execution_count": null,
   "metadata": {},
   "outputs": [],
   "source": [
    "model_accuracy = misc.evaluate(model, dataloader['test'])"
   ]
  },
  {
   "cell_type": "code",
   "execution_count": null,
   "metadata": {},
   "outputs": [],
   "source": [
    "sparsities, accuracies = pr.sensitivity_scan(model, dataloader['test'], scan_step=0.1, scan_start=0.4, scan_end=1.0)"
   ]
  },
  {
   "cell_type": "code",
   "execution_count": null,
   "metadata": {},
   "outputs": [],
   "source": [
    "visulaiser.plot_sensitivity_scan(sparsities, accuracies, model_accuracy)"
   ]
  },
  {
   "cell_type": "code",
   "execution_count": null,
   "metadata": {},
   "outputs": [],
   "source": [
    "dict = {\n",
    "    \"layer_name\": \"\" ## Ratio depending on scan graph\n",
    "}"
   ]
  },
  {
   "cell_type": "code",
   "execution_count": null,
   "metadata": {},
   "outputs": [],
   "source": [
    "pruner = pr.miscFineGrainedPruner(model, dict)\n",
    "sparse_model_size = misc.get_model_size(model, count_nonzero_only=True)\n",
    "print(f\"Sparse model has size={sparse_model_size /(8*1024*1024):.2f} MiB = {sparse_model_size / misc.get_model_size(model) * 100:.2f}% of dense model size\")\n",
    "sparse_model_accuracy = misc.evaluate(model, dataloader['test'])\n",
    "print(f\"Sparse model has accuracy={sparse_model_accuracy:.2f}% before fintuning\")"
   ]
  },
  {
   "cell_type": "code",
   "execution_count": null,
   "metadata": {},
   "outputs": [],
   "source": []
  }
 ],
 "metadata": {
  "kernelspec": {
   "display_name": "Python 3 (ipykernel)",
   "language": "python",
   "name": "python3"
  },
  "language_info": {
   "codemirror_mode": {
    "name": "ipython",
    "version": 3
   },
   "file_extension": ".py",
   "mimetype": "text/x-python",
   "name": "python",
   "nbconvert_exporter": "python",
   "pygments_lexer": "ipython3",
   "version": "3.11.10"
  }
 },
 "nbformat": 4,
 "nbformat_minor": 2
}
